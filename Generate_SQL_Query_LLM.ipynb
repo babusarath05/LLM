{
 "cells": [
  {
   "cell_type": "markdown",
   "id": "1808f6f8",
   "metadata": {},
   "source": [
    "### Expand cell width to 100% screen width"
   ]
  },
  {
   "cell_type": "code",
   "execution_count": 1,
   "id": "ebc155b6",
   "metadata": {},
   "outputs": [
    {
     "data": {
      "text/html": [
       "<style>.container { width:100% !important; }</style>"
      ],
      "text/plain": [
       "<IPython.core.display.HTML object>"
      ]
     },
     "metadata": {},
     "output_type": "display_data"
    }
   ],
   "source": [
    "from IPython.display import display, HTML\n",
    "display(HTML(\"<style>.container { width:100% !important; }</style>\"))"
   ]
  },
  {
   "cell_type": "markdown",
   "id": "e71d053a",
   "metadata": {},
   "source": [
    "### Install libraries"
   ]
  },
  {
   "cell_type": "code",
   "execution_count": null,
   "id": "0ab79674",
   "metadata": {},
   "outputs": [],
   "source": [
    "# !pip install langchain\n",
    "# !pip install typing-inspect==0.8.0 typing_extensions==4.5.0\n",
    "# !pip install pydantic==1.10.11\n",
    "# # !pip install llama-cpp-python\n",
    "# # !pip install tensorflow\n",
    "# !pip install accelerate\n",
    "# !pip install bitsandbytes\n",
    "# !pip install -U tokenizers\n",
    "# !pip install transformers\n",
    "# !pip install sentence-transformers"
   ]
  },
  {
   "cell_type": "code",
   "execution_count": null,
   "id": "14c00759",
   "metadata": {},
   "outputs": [],
   "source": [
    "!pip install ctransformers -q\n",
    "!pip install langchain"
   ]
  },
  {
   "cell_type": "markdown",
   "id": "ac3d9753",
   "metadata": {},
   "source": [
    "### Load libraries"
   ]
  },
  {
   "cell_type": "code",
   "execution_count": 2,
   "id": "25004797",
   "metadata": {},
   "outputs": [],
   "source": [
    "import glob\n",
    "import pandas as pd\n",
    "import sqlite3\n",
    "import warnings\n",
    "warnings.filterwarnings('ignore')\n",
    "from langchain.llms import CTransformers\n",
    "from langchain.callbacks.manager import CallbackManager\n",
    "from langchain.callbacks.streaming_stdout import StreamingStdOutCallbackHandler "
   ]
  },
  {
   "cell_type": "markdown",
   "id": "5fdb35f0",
   "metadata": {},
   "source": [
    "### Load configurations"
   ]
  },
  {
   "cell_type": "code",
   "execution_count": 3,
   "id": "f22fd6d9",
   "metadata": {},
   "outputs": [],
   "source": [
    "callback_manager=CallbackManager([StreamingStdOutCallbackHandler()])\n",
    "\n",
    "config_sql = {'max_new_tokens': 512, 'repetition_penalty': 1.1,'temperature':0,'stop':[';']}"
   ]
  },
  {
   "cell_type": "markdown",
   "id": "169299f6",
   "metadata": {},
   "source": [
    "### Create SQLite database and load dataframe"
   ]
  },
  {
   "cell_type": "code",
   "execution_count": 4,
   "id": "18389338",
   "metadata": {},
   "outputs": [
    {
     "data": {
      "text/html": [
       "<div>\n",
       "<style scoped>\n",
       "    .dataframe tbody tr th:only-of-type {\n",
       "        vertical-align: middle;\n",
       "    }\n",
       "\n",
       "    .dataframe tbody tr th {\n",
       "        vertical-align: top;\n",
       "    }\n",
       "\n",
       "    .dataframe thead th {\n",
       "        text-align: right;\n",
       "    }\n",
       "</style>\n",
       "<table border=\"1\" class=\"dataframe\">\n",
       "  <thead>\n",
       "    <tr style=\"text-align: right;\">\n",
       "      <th></th>\n",
       "      <th>InvoiceNo</th>\n",
       "      <th>StockCode</th>\n",
       "      <th>Description</th>\n",
       "      <th>Quantity</th>\n",
       "      <th>InvoiceDate</th>\n",
       "      <th>UnitPrice</th>\n",
       "      <th>CustomerID</th>\n",
       "      <th>Country</th>\n",
       "    </tr>\n",
       "  </thead>\n",
       "  <tbody>\n",
       "    <tr>\n",
       "      <th>0</th>\n",
       "      <td>536365</td>\n",
       "      <td>85123A</td>\n",
       "      <td>WHITE HANGING HEART T-LIGHT HOLDER</td>\n",
       "      <td>6</td>\n",
       "      <td>2010-12-01 08:26:00</td>\n",
       "      <td>2.55</td>\n",
       "      <td>17850</td>\n",
       "      <td>United Kingdom</td>\n",
       "    </tr>\n",
       "    <tr>\n",
       "      <th>1</th>\n",
       "      <td>536365</td>\n",
       "      <td>71053</td>\n",
       "      <td>WHITE METAL LANTERN</td>\n",
       "      <td>6</td>\n",
       "      <td>2010-12-01 08:26:00</td>\n",
       "      <td>3.39</td>\n",
       "      <td>17850</td>\n",
       "      <td>United Kingdom</td>\n",
       "    </tr>\n",
       "    <tr>\n",
       "      <th>2</th>\n",
       "      <td>536365</td>\n",
       "      <td>84406B</td>\n",
       "      <td>CREAM CUPID HEARTS COAT HANGER</td>\n",
       "      <td>8</td>\n",
       "      <td>2010-12-01 08:26:00</td>\n",
       "      <td>2.75</td>\n",
       "      <td>17850</td>\n",
       "      <td>United Kingdom</td>\n",
       "    </tr>\n",
       "    <tr>\n",
       "      <th>3</th>\n",
       "      <td>536365</td>\n",
       "      <td>84029G</td>\n",
       "      <td>KNITTED UNION FLAG HOT WATER BOTTLE</td>\n",
       "      <td>6</td>\n",
       "      <td>2010-12-01 08:26:00</td>\n",
       "      <td>3.39</td>\n",
       "      <td>17850</td>\n",
       "      <td>United Kingdom</td>\n",
       "    </tr>\n",
       "    <tr>\n",
       "      <th>4</th>\n",
       "      <td>536365</td>\n",
       "      <td>84029E</td>\n",
       "      <td>RED WOOLLY HOTTIE WHITE HEART.</td>\n",
       "      <td>6</td>\n",
       "      <td>2010-12-01 08:26:00</td>\n",
       "      <td>3.39</td>\n",
       "      <td>17850</td>\n",
       "      <td>United Kingdom</td>\n",
       "    </tr>\n",
       "  </tbody>\n",
       "</table>\n",
       "</div>"
      ],
      "text/plain": [
       "   InvoiceNo StockCode                          Description  Quantity  \\\n",
       "0     536365    85123A   WHITE HANGING HEART T-LIGHT HOLDER         6   \n",
       "1     536365     71053                  WHITE METAL LANTERN         6   \n",
       "2     536365    84406B       CREAM CUPID HEARTS COAT HANGER         8   \n",
       "3     536365    84029G  KNITTED UNION FLAG HOT WATER BOTTLE         6   \n",
       "4     536365    84029E       RED WOOLLY HOTTIE WHITE HEART.         6   \n",
       "\n",
       "          InvoiceDate  UnitPrice  CustomerID         Country  \n",
       "0 2010-12-01 08:26:00       2.55       17850  United Kingdom  \n",
       "1 2010-12-01 08:26:00       3.39       17850  United Kingdom  \n",
       "2 2010-12-01 08:26:00       2.75       17850  United Kingdom  \n",
       "3 2010-12-01 08:26:00       3.39       17850  United Kingdom  \n",
       "4 2010-12-01 08:26:00       3.39       17850  United Kingdom  "
      ]
     },
     "execution_count": 4,
     "metadata": {},
     "output_type": "execute_result"
    }
   ],
   "source": [
    "file = \"example.db\"\n",
    "df = pd.read_excel('Online Retail.xlsx',nrows=100)\n",
    "df.head()"
   ]
  },
  {
   "cell_type": "markdown",
   "id": "a4bd4589",
   "metadata": {},
   "source": [
    "### Convert dataframe to a SQLite table in the database"
   ]
  },
  {
   "cell_type": "code",
   "execution_count": 5,
   "id": "5a877e14",
   "metadata": {},
   "outputs": [
    {
     "name": "stdout",
     "output_type": "stream",
     "text": [
      "Database example.db formed.\n",
      "Online_Retail table created\n",
      "[('df',), ('Online_Retail',)]\n"
     ]
    }
   ],
   "source": [
    "try: \n",
    "    conn = sqlite3.connect(file) \n",
    "    print(f\"Database {file} formed.\") \n",
    "except: \n",
    "    print(f\"Database {file} not formed.\")\n",
    "\n",
    "with sqlite3.connect(file) as conn:\n",
    "    try:\n",
    "        df.to_sql('Online_Retail',conn,if_exists='replace',index=False)\n",
    "        print('Online_Retail table created')\n",
    "    except:\n",
    "        print('Online_Retail table not created')\n",
    "        \n",
    "con = sqlite3.connect(\"example.db\")\n",
    "cursor = con.cursor()\n",
    "cursor.execute(\"SELECT name FROM sqlite_master WHERE type='table';\")\n",
    "print(cursor.fetchall())"
   ]
  },
  {
   "cell_type": "markdown",
   "id": "6edae16c",
   "metadata": {},
   "source": [
    "### Load Quantized LLM from cache"
   ]
  },
  {
   "cell_type": "code",
   "execution_count": 6,
   "id": "a6b6d56e",
   "metadata": {},
   "outputs": [
    {
     "data": {
      "application/vnd.jupyter.widget-view+json": {
       "model_id": "f3491df101d34ab8949dcd0362a257fd",
       "version_major": 2,
       "version_minor": 0
      },
      "text/plain": [
       "Fetching 1 files:   0%|          | 0/1 [00:00<?, ?it/s]"
      ]
     },
     "metadata": {},
     "output_type": "display_data"
    },
    {
     "data": {
      "application/vnd.jupyter.widget-view+json": {
       "model_id": "0bd8e18deb924fce8b4e72281cf3b111",
       "version_major": 2,
       "version_minor": 0
      },
      "text/plain": [
       "Fetching 1 files:   0%|          | 0/1 [00:00<?, ?it/s]"
      ]
     },
     "metadata": {},
     "output_type": "display_data"
    }
   ],
   "source": [
    "llm_from_cache = CTransformers(model=\"TheBloke/OpenOrca-Platypus2-13B-GGUF\", \n",
    "                        model_file=\"openorca-platypus2-13b.q4_K_M.gguf\", \n",
    "                        model_type=\"llama\", \n",
    "                        config=config_sql,callback_manager=callback_manager)"
   ]
  },
  {
   "cell_type": "markdown",
   "id": "89ca8f58",
   "metadata": {},
   "source": [
    "### Load Quantized LLM from location"
   ]
  },
  {
   "cell_type": "code",
   "execution_count": null,
   "id": "2960988d",
   "metadata": {},
   "outputs": [],
   "source": [
    "model_location = r'C:\\Users\\Sarathbabu\\Downloads\\openorca-platypus2-13b.Q4_K_M.gguf'\n",
    "llm_from_location = CTransformers(model=model_location, \n",
    "                    config=config_sql,\n",
    "                    callback_manager=callback_manager\n",
    "                   )"
   ]
  },
  {
   "cell_type": "markdown",
   "id": "3025444d",
   "metadata": {},
   "source": [
    "### Context + Question"
   ]
  },
  {
   "cell_type": "code",
   "execution_count": 7,
   "id": "e906ae99",
   "metadata": {},
   "outputs": [],
   "source": [
    "context = \"\"\"\"Context:\n",
    "Online_Retail is a dataframe which contains columns such as InvoiceNo,StockCode,Description,\n",
    "Quantity,InvoiceDate,UnitPrice,CustomerID,Country.\n",
    "\"\"\"\n",
    "question = \"How many rows are there?\""
   ]
  },
  {
   "cell_type": "markdown",
   "id": "26efb934",
   "metadata": {},
   "source": [
    "### Prompt"
   ]
  },
  {
   "cell_type": "code",
   "execution_count": 8,
   "id": "f04bb671",
   "metadata": {},
   "outputs": [
    {
     "name": "stdout",
     "output_type": "stream",
     "text": [
      "\n",
      "\"Context:\n",
      "Online_Retail is a dataframe which contains columns such as InvoiceNo,StockCode,Description,\n",
      "Quantity,InvoiceDate,UnitPrice,CustomerID,Country.\n",
      "\n",
      "Question: Write a sql query for the question 'How many rows are there?'\n",
      "Answer:\n",
      "\n"
     ]
    }
   ],
   "source": [
    "prompt=f\"\"\"\n",
    "{context}\n",
    "Question: Write a sql query for the question '{question}'\n",
    "Answer:\n",
    "\"\"\"\n",
    "print(prompt)"
   ]
  },
  {
   "cell_type": "markdown",
   "id": "ff190ff8",
   "metadata": {},
   "source": [
    "### Natural language to SQL query"
   ]
  },
  {
   "cell_type": "code",
   "execution_count": 9,
   "id": "bc7f2197",
   "metadata": {},
   "outputs": [],
   "source": [
    "def generate_sql_query(prompt):\n",
    "    model = llm_from_cache\n",
    "    return model.invoke(prompt)"
   ]
  },
  {
   "cell_type": "markdown",
   "id": "15fdebd9",
   "metadata": {},
   "source": [
    "### LLM answer for the prompt"
   ]
  },
  {
   "cell_type": "code",
   "execution_count": 10,
   "id": "b561bb53",
   "metadata": {},
   "outputs": [
    {
     "name": "stdout",
     "output_type": "stream",
     "text": [
      "SELECT COUNT(*) FROM Online_Retail"
     ]
    }
   ],
   "source": [
    "query_result = generate_sql_query(prompt)"
   ]
  },
  {
   "cell_type": "markdown",
   "id": "b09fb419",
   "metadata": {},
   "source": [
    "### Use generated query on the sqlite database"
   ]
  },
  {
   "cell_type": "code",
   "execution_count": 11,
   "id": "7d4d5d75",
   "metadata": {},
   "outputs": [
    {
     "data": {
      "text/html": [
       "<div>\n",
       "<style scoped>\n",
       "    .dataframe tbody tr th:only-of-type {\n",
       "        vertical-align: middle;\n",
       "    }\n",
       "\n",
       "    .dataframe tbody tr th {\n",
       "        vertical-align: top;\n",
       "    }\n",
       "\n",
       "    .dataframe thead th {\n",
       "        text-align: right;\n",
       "    }\n",
       "</style>\n",
       "<table border=\"1\" class=\"dataframe\">\n",
       "  <thead>\n",
       "    <tr style=\"text-align: right;\">\n",
       "      <th></th>\n",
       "      <th>COUNT(*)</th>\n",
       "    </tr>\n",
       "  </thead>\n",
       "  <tbody>\n",
       "    <tr>\n",
       "      <th>0</th>\n",
       "      <td>100</td>\n",
       "    </tr>\n",
       "  </tbody>\n",
       "</table>\n",
       "</div>"
      ],
      "text/plain": [
       "   COUNT(*)\n",
       "0       100"
      ]
     },
     "execution_count": 11,
     "metadata": {},
     "output_type": "execute_result"
    }
   ],
   "source": [
    "file = \"example.db\"\n",
    "with sqlite3.connect(file) as conn:\n",
    "    df_result = pd.read_sql_query(query_result, conn)\n",
    "df_result"
   ]
  },
  {
   "cell_type": "markdown",
   "id": "5923059e",
   "metadata": {},
   "source": [
    "### Load Quantized LLM with CTransformers Automodel from cache"
   ]
  },
  {
   "cell_type": "code",
   "execution_count": 12,
   "id": "93fc32db",
   "metadata": {},
   "outputs": [
    {
     "data": {
      "application/vnd.jupyter.widget-view+json": {
       "model_id": "3151fbd9b8fb4003859cc31671269ed6",
       "version_major": 2,
       "version_minor": 0
      },
      "text/plain": [
       "Fetching 1 files:   0%|          | 0/1 [00:00<?, ?it/s]"
      ]
     },
     "metadata": {},
     "output_type": "display_data"
    },
    {
     "data": {
      "application/vnd.jupyter.widget-view+json": {
       "model_id": "ba94456acf4a4995bd77731b88f269b9",
       "version_major": 2,
       "version_minor": 0
      },
      "text/plain": [
       "Fetching 1 files:   0%|          | 0/1 [00:00<?, ?it/s]"
      ]
     },
     "metadata": {},
     "output_type": "display_data"
    }
   ],
   "source": [
    "from ctransformers import AutoModelForCausalLM,AutoTokenizer\n",
    "\n",
    "model = AutoModelForCausalLM.from_pretrained(\"TheBloke/OpenOrca-Platypus2-13B-GGUF\", \n",
    "                        model_file=\"openorca-platypus2-13b.q4_K_M.gguf\", \n",
    "                        model_type=\"llama\")"
   ]
  },
  {
   "cell_type": "markdown",
   "id": "c5aca326",
   "metadata": {},
   "source": [
    "### Context + Question"
   ]
  },
  {
   "cell_type": "code",
   "execution_count": 13,
   "id": "bea53ef2",
   "metadata": {},
   "outputs": [],
   "source": [
    "context = \"\"\"\"Context:\n",
    "Online_Retail is a dataframe which contains columns such as InvoiceNo,StockCode,Description,\n",
    "Quantity,InvoiceDate,UnitPrice,CustomerID,Country.\n",
    "\"\"\"\n",
    "question = \"How many rows are there?\""
   ]
  },
  {
   "cell_type": "markdown",
   "id": "c1813aba",
   "metadata": {},
   "source": [
    "### Prompt"
   ]
  },
  {
   "cell_type": "code",
   "execution_count": 14,
   "id": "ce57fdba",
   "metadata": {},
   "outputs": [
    {
     "name": "stdout",
     "output_type": "stream",
     "text": [
      "\n",
      "\"Context:\n",
      "Online_Retail is a dataframe which contains columns such as InvoiceNo,StockCode,Description,\n",
      "Quantity,InvoiceDate,UnitPrice,CustomerID,Country.\n",
      "\n",
      "Question: Write a sql query for the question 'How many rows are there?'\n",
      "Answer:\n",
      "\n"
     ]
    }
   ],
   "source": [
    "prompt=f\"\"\"\n",
    "{context}\n",
    "Question: Write a sql query for the question '{question}'\n",
    "Answer:\n",
    "\"\"\"\n",
    "print(prompt)"
   ]
  },
  {
   "cell_type": "markdown",
   "id": "323a358f",
   "metadata": {},
   "source": [
    "### Total tokens for the model"
   ]
  },
  {
   "cell_type": "code",
   "execution_count": 15,
   "id": "94c9ec31",
   "metadata": {},
   "outputs": [
    {
     "name": "stdout",
     "output_type": "stream",
     "text": [
      "Prompt Tokens = 68\n"
     ]
    }
   ],
   "source": [
    "prompt_tokens = len(model.tokenize(prompt))\n",
    "print(f'Prompt Tokens = {prompt_tokens}')\n",
    "# total_tokens = prompt_tokens + output_tokens \n",
    "# total_tokens = 512 limit for this model"
   ]
  },
  {
   "cell_type": "markdown",
   "id": "05e6f5af",
   "metadata": {},
   "source": [
    "### Load configurations"
   ]
  },
  {
   "cell_type": "code",
   "execution_count": 16,
   "id": "7e59e9f7",
   "metadata": {},
   "outputs": [
    {
     "name": "stdout",
     "output_type": "stream",
     "text": [
      "{'max_new_tokens': 512, 'repetition_penalty': 1.1, 'temperature': 0, 'stop': [';']}\n"
     ]
    }
   ],
   "source": [
    "print(config_sql)"
   ]
  },
  {
   "cell_type": "markdown",
   "id": "54946d19",
   "metadata": {},
   "source": [
    "### Natural language to SQL query"
   ]
  },
  {
   "cell_type": "code",
   "execution_count": 17,
   "id": "10911e1b",
   "metadata": {},
   "outputs": [
    {
     "name": "stdout",
     "output_type": "stream",
     "text": [
      "SELECT COUNT(*) FROM Online_Retail"
     ]
    }
   ],
   "source": [
    "query_result=\"\"\n",
    "for text in model(prompt,max_new_tokens=512,repetition_penalty=1.1,temperature=0,stop=[';'],stream=True):\n",
    "    query_result+=text\n",
    "    print(text, end=\"\", flush=True)"
   ]
  },
  {
   "cell_type": "markdown",
   "id": "0e4e83c0",
   "metadata": {},
   "source": [
    "### Use generated query on the sqlite database"
   ]
  },
  {
   "cell_type": "code",
   "execution_count": 18,
   "id": "d7d562e0",
   "metadata": {},
   "outputs": [
    {
     "data": {
      "text/html": [
       "<div>\n",
       "<style scoped>\n",
       "    .dataframe tbody tr th:only-of-type {\n",
       "        vertical-align: middle;\n",
       "    }\n",
       "\n",
       "    .dataframe tbody tr th {\n",
       "        vertical-align: top;\n",
       "    }\n",
       "\n",
       "    .dataframe thead th {\n",
       "        text-align: right;\n",
       "    }\n",
       "</style>\n",
       "<table border=\"1\" class=\"dataframe\">\n",
       "  <thead>\n",
       "    <tr style=\"text-align: right;\">\n",
       "      <th></th>\n",
       "      <th>COUNT(*)</th>\n",
       "    </tr>\n",
       "  </thead>\n",
       "  <tbody>\n",
       "    <tr>\n",
       "      <th>0</th>\n",
       "      <td>100</td>\n",
       "    </tr>\n",
       "  </tbody>\n",
       "</table>\n",
       "</div>"
      ],
      "text/plain": [
       "   COUNT(*)\n",
       "0       100"
      ]
     },
     "execution_count": 18,
     "metadata": {},
     "output_type": "execute_result"
    }
   ],
   "source": [
    "file = \"example.db\"\n",
    "with sqlite3.connect(file) as conn:\n",
    "    df_result = pd.read_sql_query(query_result, conn)\n",
    "df_result"
   ]
  }
 ],
 "metadata": {
  "kernelspec": {
   "display_name": "Python 3 (ipykernel)",
   "language": "python",
   "name": "python3"
  },
  "language_info": {
   "codemirror_mode": {
    "name": "ipython",
    "version": 3
   },
   "file_extension": ".py",
   "mimetype": "text/x-python",
   "name": "python",
   "nbconvert_exporter": "python",
   "pygments_lexer": "ipython3",
   "version": "3.11.7"
  }
 },
 "nbformat": 4,
 "nbformat_minor": 5
}
