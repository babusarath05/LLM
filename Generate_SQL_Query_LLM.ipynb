{
 "cells": [
  {
   "cell_type": "code",
   "execution_count": null,
   "id": "0ab79674",
   "metadata": {},
   "outputs": [],
   "source": [
    "!pip install langchain\n",
    "!pip install typing-inspect==0.8.0 typing_extensions==4.5.0\n",
    "!pip install pydantic==1.10.11\n",
    "# !pip install llama-cpp-python\n",
    "# !pip install tensorflow\n",
    "!pip install accelerate\n",
    "!pip install bitsandbytes\n",
    "!pip install -U tokenizers\n",
    "!pip install transformers\n",
    "!pip install sentence-transformers"
   ]
  },
  {
   "cell_type": "code",
   "execution_count": null,
   "id": "14c00759",
   "metadata": {},
   "outputs": [],
   "source": [
    "%pip install ctransformers -q"
   ]
  },
  {
   "cell_type": "code",
   "execution_count": null,
   "id": "f22fd6d9",
   "metadata": {},
   "outputs": [],
   "source": [
    "import glob\n",
    "import pandas as pd\n",
    "import sqlite3\n",
    "import warnings\n",
    "warnings.filterwarnings('ignore')\n",
    "from langchain.llms import CTransformers\n",
    "from langchain.callbacks.manager import CallbackManager\n",
    "from langchain.callbacks.streaming_stdout import StreamingStdOutCallbackHandler \n",
    "\n",
    "callback_manager=CallbackManager([StreamingStdOutCallbackHandler()])\n",
    "\n",
    "config_sql = {'max_new_tokens': 512, 'repetition_penalty': 1.1,'temperature':0,'stop':[';']}"
   ]
  },
  {
   "cell_type": "code",
   "execution_count": null,
   "id": "5a877e14",
   "metadata": {},
   "outputs": [],
   "source": [
    "file = \"example.db\"\n",
    "try: \n",
    "    conn = sqlite3.connect(file) \n",
    "    print(f\"Database {file} formed.\") \n",
    "except: \n",
    "    print(f\"Database {file} not formed.\")\n",
    "\n",
    "with sqlite3.connect(file) as conn:\n",
    "    try:\n",
    "        df.to_sql('df',conn,if_exists='replace',index=False)\n",
    "        print('df table created')\n",
    "    except:\n",
    "        print('df table not created')\n",
    "        \n",
    "con = sqlite3.connect(\"example.db\")\n",
    "cursor = con.cursor()\n",
    "cursor.execute(\"SELECT name FROM sqlite_master WHERE type='table';\")\n",
    "print(cursor.fetchall())"
   ]
  },
  {
   "cell_type": "code",
   "execution_count": null,
   "id": "bc7f2197",
   "metadata": {},
   "outputs": [],
   "source": [
    "def generate_sql_query(question):\n",
    "    prompt=f\"\"\"\n",
    "    {context}\n",
    "    Question: Write a sql query for the question '{question}'\n",
    "    Answer:\n",
    "    \"\"\"\n",
    "    llm = CTransformers(model=\"TheBloke/OpenOrca-Platypus2-13B-GGUF\", \n",
    "                        model_file=\"openorca-platypus2-13b.q4_K_M.gguf\", \n",
    "                        model_type=\"llama\", \n",
    "                        config=config_sql,callback_manager=callback_manager)\n",
    "    return llm(prompt)"
   ]
  },
  {
   "cell_type": "code",
   "execution_count": null,
   "id": "760587d8",
   "metadata": {},
   "outputs": [],
   "source": [
    "question = \"\"\n",
    "query_result = generate_sql_query(question)\n",
    "with sqlite3.connect(file) as conn:\n",
    "    df_result = pd.read_sql_query(query_result, conn)"
   ]
  }
 ],
 "metadata": {
  "kernelspec": {
   "display_name": "Python 3 (ipykernel)",
   "language": "python",
   "name": "python3"
  },
  "language_info": {
   "codemirror_mode": {
    "name": "ipython",
    "version": 3
   },
   "file_extension": ".py",
   "mimetype": "text/x-python",
   "name": "python",
   "nbconvert_exporter": "python",
   "pygments_lexer": "ipython3",
   "version": "3.10.9"
  }
 },
 "nbformat": 4,
 "nbformat_minor": 5
}
